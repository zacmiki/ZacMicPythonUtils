{
 "cells": [
  {
   "cell_type": "markdown",
   "id": "34ee2722-7332-43ef-a550-c896a59e2085",
   "metadata": {},
   "source": [
    "## Pressure for a given Ruby Wavelength"
   ]
  },
  {
   "cell_type": "code",
   "execution_count": 1,
   "id": "07e6b697-2bd9-4c78-bc83-c40c7fc4c8aa",
   "metadata": {},
   "outputs": [
    {
     "name": "stdin",
     "output_type": "stream",
     "text": [
      "\n",
      " \n",
      " Enter the value of the measureed Ruby Line:  695\n"
     ]
    },
    {
     "name": "stdout",
     "output_type": "stream",
     "text": [
      "\n",
      " The corresponding pressure for a measured wavelength of 695.0 is 2.230 GPa\n",
      "\n",
      " By Using the Ruby2020 formula the pressure is 695.0 is 2.196 GPa\n",
      "\n"
     ]
    }
   ],
   "source": [
    "A = float(1904)\n",
    "B = float(7.715)\n",
    "R1 = float(694.19)\n",
    "\n",
    "A1 = float(1870)\n",
    "B1 = float(5.63)\n",
    "\n",
    "wlenght = float(input(\"\\n \\n Enter the value of the measureed Ruby Line: \"))\n",
    "\n",
    "pressure1 = A/B * ((wlenght/R1)**B -1)\n",
    "pressure2 = A1*((wlenght-R1)/R1)*(1 + B1*((wlenght-R1)/R1))\n",
    "\n",
    "\n",
    "print(\"\\n The corresponding pressure for a measured wavelength of\", wlenght, \"is %.3f\" % pressure1, \"GPa\")\n",
    "\n",
    "print(\"\\n By Using the Ruby2020 formula the pressure is\", wlenght, \"is %.3f\" % pressure2, \"GPa\\n\")\n"
   ]
  },
  {
   "cell_type": "markdown",
   "id": "71c9cf4b-0cd0-4f94-a608-9004c71eaeed",
   "metadata": {},
   "source": [
    "## Calculate Temperature for Given Ruby line Position"
   ]
  },
  {
   "cell_type": "code",
   "execution_count": 12,
   "id": "164b7677-4242-4fa9-a1db-67086f67b194",
   "metadata": {
    "tags": []
   },
   "outputs": [
    {
     "name": "stdout",
     "output_type": "stream",
     "text": [
      "\n",
      " Ref wavelength and temperature for our ruby are  694.19 nm at 298.100 K\n"
     ]
    },
    {
     "name": "stdin",
     "output_type": "stream",
     "text": [
      "Enter the value of the measureed Ruby Line:  695\n"
     ]
    },
    {
     "name": "stdout",
     "output_type": "stream",
     "text": [
      "\n",
      " The corresponding temperature for the measured wavelength of 695.0 is 409.670 Kelvins\n"
     ]
    }
   ],
   "source": [
    "Tambient = float(298.1) #Our Ambient temperature while acquiring the ref ruby line\n",
    "R1 = float(694.19)      #Our Reference ruby Line position at Ambient Temperature\n",
    "\n",
    "# Tambient = float(input(\"\\n \\nEnter the value of the ambient temp in K: \"))   ---- old\n",
    "\n",
    "print(\"\\n Ref wavelength and temperature for our ruby are \", R1, \"nm at %.3f\" % Tambient, \"K\")\n",
    "\n",
    "R2 = float(input(\"Enter the value of the measureed Ruby Line: \"))\n",
    "T1 = float(273.15 + Tambient)\n",
    "\n",
    "T2 = (R2 - R1)/0.00726 + Tambient\n",
    "\n",
    "print(\"\\n The corresponding temperature for the measured wavelength of\", R2, \"is %.3f\" % T2, \"Kelvins\")"
   ]
  },
  {
   "cell_type": "markdown",
   "id": "c515dfdf-b45c-4772-8586-c0f1327b40b2",
   "metadata": {},
   "source": [
    "## Calculate the Line Position for Wanted Temperature ##"
   ]
  },
  {
   "cell_type": "code",
   "execution_count": 13,
   "id": "14e6507f-143a-4c61-9110-0e39b1c0d987",
   "metadata": {},
   "outputs": [
    {
     "name": "stdout",
     "output_type": "stream",
     "text": [
      "\n",
      " Ref wavelength and temperature for our ruby are  694.19 nm at 298.100 K\n"
     ]
    },
    {
     "name": "stdin",
     "output_type": "stream",
     "text": [
      "Enter the desired temperature:  370\n"
     ]
    },
    {
     "name": "stdout",
     "output_type": "stream",
     "text": [
      "\n",
      " For 370.0 temperature the line will be at 694.712 nm\n"
     ]
    }
   ],
   "source": [
    "Tambient = float(298.1) #our Ambient temperature while acquiring the ref ruby line\n",
    "R1 = float(694.19)      #our Reference ruby Line at Ambient Temperature\n",
    "\n",
    "# Tambient = float(input(\"\\n \\nEnter the value of the ambient temp in K: \"))\n",
    "print(\"\\n Ref wavelength and temperature for our ruby are \", R1, \"nm at %.3f\" % Tambient, \"K\")\n",
    "\n",
    "T2 = float(input(\"Enter the desired temperature: \"))\n",
    "# T1 = float(273.15 + Tambient)\n",
    "\n",
    "R2 = R1 + (T2 - Tambient) * 0.00726\n",
    "\n",
    "print(\"\\n For\", T2, \"temperature the line will be at %.3f\" % R2, \"nm\")"
   ]
  },
  {
   "cell_type": "code",
   "execution_count": null,
   "id": "65f9adce-fe6f-4b7d-a7b3-1f2b81611ab0",
   "metadata": {},
   "outputs": [],
   "source": []
  }
 ],
 "metadata": {
  "kernelspec": {
   "display_name": "Python 3 (ipykernel)",
   "language": "python",
   "name": "python3"
  },
  "language_info": {
   "codemirror_mode": {
    "name": "ipython",
    "version": 3
   },
   "file_extension": ".py",
   "mimetype": "text/x-python",
   "name": "python",
   "nbconvert_exporter": "python",
   "pygments_lexer": "ipython3",
   "version": "3.9.15"
  }
 },
 "nbformat": 4,
 "nbformat_minor": 5
}
